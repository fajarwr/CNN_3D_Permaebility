{
  "nbformat": 4,
  "nbformat_minor": 0,
  "metadata": {
    "colab": {
      "name": "CNN_3D_Permeability.ipynb",
      "version": "0.3.2",
      "provenance": [],
      "collapsed_sections": [],
      "include_colab_link": true
    },
    "kernelspec": {
      "name": "python3",
      "display_name": "Python 3"
    },
    "accelerator": "GPU"
  },
  "cells": [
    {
      "cell_type": "markdown",
      "metadata": {
        "id": "view-in-github",
        "colab_type": "text"
      },
      "source": [
        "<a href=\"https://colab.research.google.com/github/fajarwr/CNN_3D_Permaebility/blob/master/CNN_3D_Permeability.ipynb\" target=\"_parent\"><img src=\"https://colab.research.google.com/assets/colab-badge.svg\" alt=\"Open In Colab\"/></a>"
      ]
    },
    {
      "metadata": {
        "id": "uZ46QlYesJ-5",
        "colab_type": "code",
        "colab": {
          "base_uri": "https://localhost:8080/",
          "height": 34
        },
        "outputId": "9c1c6788-bc75-422c-b7aa-5f839719d1f9"
      },
      "cell_type": "code",
      "source": [
        "from __future__ import division, print_function, absolute_import\n",
        "from keras.models import Sequential, model_from_json\n",
        "from keras.layers import Dense, Dropout, Flatten, Conv3D, MaxPooling3D, BatchNormalization, Input\n",
        "from keras.optimizers import RMSprop\n",
        "from keras.preprocessing.image import ImageDataGenerator\n",
        "from keras.utils.np_utils import to_categorical\n",
        "from keras.callbacks import ReduceLROnPlateau, TensorBoard\n",
        "import h5py\n",
        "import pandas as pd\n",
        "import numpy as np\n",
        "import matplotlib.pyplot as plt\n",
        "import seaborn as sns\n",
        "sns.set_style('white')\n",
        "from sklearn.metrics import confusion_matrix, accuracy_score, r2_score\n",
        "import os\n",
        "import sys\n",
        "import matplotlib.pyplot as plt\n",
        "import re\n",
        "from sklearn.metrics import confusion_matrix, accuracy_score, r2_score\n",
        "from sklearn.model_selection import train_test_split\n",
        "from keras import backend as K\n",
        "from keras.callbacks import ModelCheckpoint\n",
        "import keras"
      ],
      "execution_count": 1,
      "outputs": [
        {
          "output_type": "stream",
          "text": [
            "Using TensorFlow backend.\n"
          ],
          "name": "stderr"
        }
      ]
    },
    {
      "metadata": {
        "id": "SnAA9PTBwMmF",
        "colab_type": "code",
        "colab": {}
      },
      "cell_type": "code",
      "source": [
        "#Define r square matric\n",
        "def r2_keras(y_true, y_pred):\n",
        "    SS_res =  K.sum(K.square(y_true - y_pred)) \n",
        "    SS_tot = K.sum(K.square(y_true - K.mean(y_true)))\n",
        "    return ( 1 - SS_res/(SS_tot + K.epsilon()) )"
      ],
      "execution_count": 0,
      "outputs": []
    },
    {
      "metadata": {
        "id": "_MXt2sDLxbiZ",
        "colab_type": "code",
        "outputId": "cc2f8169-bb9e-4d74-a2a2-16356332c19d",
        "colab": {
          "base_uri": "https://localhost:8080/",
          "height": 34
        }
      },
      "cell_type": "code",
      "source": [
        "cd"
      ],
      "execution_count": 3,
      "outputs": [
        {
          "output_type": "stream",
          "text": [
            "/root\n"
          ],
          "name": "stdout"
        }
      ]
    },
    {
      "metadata": {
        "id": "MLiVBMLc46FL",
        "colab_type": "code",
        "outputId": "6113f80c-25c2-4674-9d54-72a6655bf9ef",
        "colab": {
          "base_uri": "https://localhost:8080/",
          "height": 34
        }
      },
      "cell_type": "code",
      "source": [
        "cd /content"
      ],
      "execution_count": 4,
      "outputs": [
        {
          "output_type": "stream",
          "text": [
            "/content\n"
          ],
          "name": "stdout"
        }
      ]
    },
    {
      "metadata": {
        "id": "IS2krkmz4_QN",
        "colab_type": "code",
        "outputId": "c64d44ee-c43d-47c1-db05-c452539bb52c",
        "colab": {
          "base_uri": "https://localhost:8080/",
          "height": 34
        }
      },
      "cell_type": "code",
      "source": [
        "pwd"
      ],
      "execution_count": 5,
      "outputs": [
        {
          "output_type": "execute_result",
          "data": {
            "text/plain": [
              "'/content'"
            ]
          },
          "metadata": {
            "tags": []
          },
          "execution_count": 5
        }
      ]
    },
    {
      "metadata": {
        "id": "8XaqCiE4yCyP",
        "colab_type": "code",
        "outputId": "0523b699-f3a3-4d76-a870-0d3244ba2bf8",
        "colab": {
          "base_uri": "https://localhost:8080/",
          "height": 54
        }
      },
      "cell_type": "code",
      "source": [
        "from google.colab import drive\n",
        "drive.mount('/content/gdrive')"
      ],
      "execution_count": 6,
      "outputs": [
        {
          "output_type": "stream",
          "text": [
            "Drive already mounted at /content/gdrive; to attempt to forcibly remount, call drive.mount(\"/content/gdrive\", force_remount=True).\n"
          ],
          "name": "stdout"
        }
      ]
    },
    {
      "metadata": {
        "id": "Ha4Mgecc-J0d",
        "colab_type": "code",
        "outputId": "71f9a16f-b892-44a8-8dde-5bf87dd971a2",
        "colab": {
          "base_uri": "https://localhost:8080/",
          "height": 34
        }
      },
      "cell_type": "code",
      "source": [
        "ls"
      ],
      "execution_count": 7,
      "outputs": [
        {
          "output_type": "stream",
          "text": [
            "\u001b[0m\u001b[01;34mCNN_Permeability\u001b[0m/  \u001b[01;34mgdrive\u001b[0m/  \u001b[01;34msample_data\u001b[0m/\n"
          ],
          "name": "stdout"
        }
      ]
    },
    {
      "metadata": {
        "id": "glOQgwXky21u",
        "colab_type": "code",
        "colab": {}
      },
      "cell_type": "code",
      "source": [
        "os.chdir('gdrive/My Drive/CNN_Permeability/001_PythonCodes/CNN_3D_Permaebility')"
      ],
      "execution_count": 0,
      "outputs": []
    },
    {
      "metadata": {
        "id": "vJSPpJRz5tQ7",
        "colab_type": "code",
        "colab": {}
      },
      "cell_type": "code",
      "source": [
        "#Import datagenerator taken from \n",
        "#https://stanford.edu/~shervine/blog/keras-how-to-generate-data-on-the-fly\n",
        "from DataGenerator_3D_Classes import DataGenerator"
      ],
      "execution_count": 0,
      "outputs": []
    },
    {
      "metadata": {
        "id": "0j0cYATd5_Ke",
        "colab_type": "code",
        "colab": {}
      },
      "cell_type": "code",
      "source": [
        "#Experiment number\n",
        "exp_num = 9\n",
        "os.chdir('../../005_Result/CNN_3D_v2')\n",
        "#if any('00'+str(exp_num) in s for s in os.listdir(os.getcwd())):\n",
        "    #sys.exit('Alert : There is already 00'+str(exp_num)+' experiment result!!')"
      ],
      "execution_count": 0,
      "outputs": []
    },
    {
      "metadata": {
        "id": "kwENhDxO7VRN",
        "colab_type": "code",
        "colab": {}
      },
      "cell_type": "code",
      "source": [
        "#Load the data\n",
        "dim1,dim2,dim3,chn = 100,100,100,1\n",
        "training_len = 90\n",
        "testing_len = 10\n",
        "total_len = training_len + testing_len\n",
        "phi = []\n",
        "ssa = []\n",
        "os.chdir('../../002_Data/Berea_Sandstone_npy')\n",
        "for image3D_npy in os.listdir(os.getcwd())[:total_len]:\n",
        "    phi.append([float(s) for s in re.findall('[-+]?\\d*\\.\\d+|\\d+',\n",
        "                image3D_npy)][1])\n",
        "    ssa.append([float(s) for s in re.findall('[-+]?\\d*\\.\\d+|\\d+',\n",
        "                image3D_npy)][2])\n",
        "k = np.power(1-np.array(phi), 3)/np.power(ssa, 2)\n",
        "k_norm = k/np.max(k)"
      ],
      "execution_count": 0,
      "outputs": []
    },
    {
      "metadata": {
        "id": "vmKNGGhf7lFj",
        "colab_type": "code",
        "colab": {}
      },
      "cell_type": "code",
      "source": [
        "# Parameters\n",
        "params = {'dim': (dim1,dim2,dim3),\n",
        "          'batch_size': 20,\n",
        "          'n_classes': 1,\n",
        "          'n_channels': chn,\n",
        "          'shuffle': False}"
      ],
      "execution_count": 0,
      "outputs": []
    },
    {
      "metadata": {
        "id": "GpwZ-XK4_ebe",
        "colab_type": "code",
        "colab": {}
      },
      "cell_type": "code",
      "source": [
        "#Datasets\n",
        "partition = {\n",
        "\t\t'train': os.listdir(os.getcwd())[:training_len],\n",
        "\t\t'validation': os.listdir(os.getcwd())[training_len:total_len],\n",
        "        'total' : os.listdir(os.getcwd())[:total_len]\n",
        "\t\t}\n",
        "labels = dict(zip(os.listdir(os.getcwd())[:total_len], k_norm))"
      ],
      "execution_count": 0,
      "outputs": []
    },
    {
      "metadata": {
        "id": "Ym1wn7f2_h7D",
        "colab_type": "code",
        "colab": {}
      },
      "cell_type": "code",
      "source": [
        "# Generators\n",
        "training_generator = DataGenerator(partition['train'], labels, **params)\n",
        "validation_generator = DataGenerator(partition['validation'], labels, **params)\n",
        "total_generator = DataGenerator(partition['total'], labels, **params)"
      ],
      "execution_count": 0,
      "outputs": []
    },
    {
      "metadata": {
        "id": "z1SuLY-E_mmB",
        "colab_type": "code",
        "colab": {
          "base_uri": "https://localhost:8080/",
          "height": 88
        },
        "outputId": "d6aa1c21-f223-4fd6-971f-c68378af3444"
      },
      "cell_type": "code",
      "source": [
        "#Define a model\n",
        "model = Sequential()\n",
        "model.add(Conv3D(32, kernel_size=5, strides=(2, 2, 2), padding='valid',\n",
        "                 data_format='channels_last', dilation_rate=(1, 1, 1),\n",
        "                 activation='relu', use_bias=True,\n",
        "                 kernel_initializer='glorot_uniform', bias_initializer='zeros',\n",
        "                 kernel_regularizer=None, bias_regularizer=None, \n",
        "                 activity_regularizer=None, kernel_constraint=None,\n",
        "                 bias_constraint=None, input_shape=(dim1, dim2, dim3, chn)))\n",
        "model.add(Conv3D(32, kernel_size=5, strides=(2, 2, 2), padding='valid',\n",
        "                 data_format='channels_last', dilation_rate=(1, 1, 1),\n",
        "                 activation='relu', use_bias=True,\n",
        "                 kernel_initializer='glorot_uniform', bias_initializer='zeros',\n",
        "                 kernel_regularizer=None, bias_regularizer=None, \n",
        "                 activity_regularizer=None, kernel_constraint=None,\n",
        "                 bias_constraint=None))\n",
        "model.add(MaxPooling3D(pool_size=(2, 2, 2), strides=(1, 1, 1), padding='valid',\n",
        "                       data_format='channels_last'))\n",
        "model.add(Conv3D(32, kernel_size=3, strides=(1, 1, 1), padding='valid',\n",
        "                 data_format='channels_last', dilation_rate=(1, 1, 1),\n",
        "                 activation='relu', use_bias=True,\n",
        "                 kernel_initializer='glorot_uniform', bias_initializer='zeros',\n",
        "                 kernel_regularizer=None, bias_regularizer=None, \n",
        "                 activity_regularizer=None, kernel_constraint=None,\n",
        "                 bias_constraint=None, input_shape=(dim1, dim2, dim3, chn)))\n",
        "model.add(Conv3D(32, kernel_size=3, strides=(1, 1, 1), padding='valid',\n",
        "                 data_format='channels_last', dilation_rate=(1, 1, 1),\n",
        "                 activation='relu', use_bias=True,\n",
        "                 kernel_initializer='glorot_uniform', bias_initializer='zeros',\n",
        "                 kernel_regularizer=None, bias_regularizer=None, \n",
        "                 activity_regularizer=None, kernel_constraint=None,\n",
        "                 bias_constraint=None))\n",
        "model.add(MaxPooling3D(pool_size=(2, 2, 2), strides=(1, 1, 1), padding='valid',\n",
        "                       data_format='channels_last'))\n",
        "model.add(Flatten(data_format='channels_last'))\n",
        "model.add(Dense(128, activation='relu', use_bias=True,\n",
        "                kernel_initializer='glorot_uniform', bias_initializer='zeros',\n",
        "                kernel_regularizer=None, bias_regularizer=None,\n",
        "                activity_regularizer=None, kernel_constraint=None,\n",
        "                bias_constraint=None))\n",
        "model.add(Dense(64, activation='relu', use_bias=True,\n",
        "                kernel_initializer='glorot_uniform', bias_initializer='zeros',\n",
        "                kernel_regularizer=None, bias_regularizer=None,\n",
        "                activity_regularizer=None, kernel_constraint=None,\n",
        "                bias_constraint=None))\n",
        "model.add(Dense(64, activation='relu', use_bias=True,\n",
        "                kernel_initializer='glorot_uniform', bias_initializer='zeros',\n",
        "                kernel_regularizer=None, bias_regularizer=None,\n",
        "                activity_regularizer=None, kernel_constraint=None,\n",
        "                bias_constraint=None))\n",
        "model.add(Dense(1, activation=None, use_bias=True,\n",
        "                kernel_initializer='glorot_uniform', bias_initializer='zeros',\n",
        "                kernel_regularizer=None, bias_regularizer=None,\n",
        "                activity_regularizer=None, kernel_constraint=None,\n",
        "                bias_constraint=None))"
      ],
      "execution_count": 15,
      "outputs": [
        {
          "output_type": "stream",
          "text": [
            "WARNING:tensorflow:From /usr/local/lib/python3.6/dist-packages/tensorflow/python/framework/op_def_library.py:263: colocate_with (from tensorflow.python.framework.ops) is deprecated and will be removed in a future version.\n",
            "Instructions for updating:\n",
            "Colocations handled automatically by placer.\n"
          ],
          "name": "stdout"
        }
      ]
    },
    {
      "metadata": {
        "id": "IMefmk7h_Aof",
        "colab_type": "code",
        "outputId": "338fc035-48b4-4dae-b621-f805340de9bf",
        "colab": {
          "base_uri": "https://localhost:8080/",
          "height": 34
        }
      },
      "cell_type": "code",
      "source": [
        "pwd"
      ],
      "execution_count": 16,
      "outputs": [
        {
          "output_type": "execute_result",
          "data": {
            "text/plain": [
              "'/content/gdrive/My Drive/CNN_Permeability/002_Data/Berea_Sandstone_npy'"
            ]
          },
          "metadata": {
            "tags": []
          },
          "execution_count": 16
        }
      ]
    },
    {
      "metadata": {
        "id": "Z2eeTh_c_xEZ",
        "colab_type": "code",
        "colab": {}
      },
      "cell_type": "code",
      "source": [
        "#Compile the model\n",
        "model.compile(optimizer='Adam', loss='mean_squared_error', metrics=[r2_keras],\n",
        "              loss_weights=None, sample_weight_mode=None,weighted_metrics=None,\n",
        "              target_tensors=None)"
      ],
      "execution_count": 0,
      "outputs": []
    },
    {
      "metadata": {
        "id": "NhaIBZ5f_0oI",
        "colab_type": "code",
        "colab": {}
      },
      "cell_type": "code",
      "source": [
        "#This checkpoint object will store the model parameters in the file \"weights.hdf5\"\n",
        "#checkpoint = ModelCheckpoint(filepath='../../../../../Weights_CNN3D_00'+str(exp_num)+'.hdf5', monitor='val_loss')"
      ],
      "execution_count": 0,
      "outputs": []
    },
    {
      "metadata": {
        "id": "bNaaS6qM_-HY",
        "colab_type": "code",
        "colab": {}
      },
      "cell_type": "code",
      "source": [
        "#Change to data directory\n",
        "os.chdir('../../002_Data/Berea_Sandstone_npy')"
      ],
      "execution_count": 0,
      "outputs": []
    },
    {
      "metadata": {
        "id": "46vli8axAMIH",
        "colab_type": "code",
        "outputId": "2c5d7876-0da8-4436-8a8c-8ac7cf3a9db4",
        "colab": {
          "base_uri": "https://localhost:8080/",
          "height": 768
        }
      },
      "cell_type": "code",
      "source": [
        "# Train model on dataset\n",
        "history = model.fit_generator(generator=training_generator, epochs=20,\n",
        "                    workers=1, use_multiprocessing=False)"
      ],
      "execution_count": 20,
      "outputs": [
        {
          "output_type": "stream",
          "text": [
            "WARNING:tensorflow:From /usr/local/lib/python3.6/dist-packages/tensorflow/python/ops/math_ops.py:3066: to_int32 (from tensorflow.python.ops.math_ops) is deprecated and will be removed in a future version.\n",
            "Instructions for updating:\n",
            "Use tf.cast instead.\n",
            "Epoch 1/20\n",
            "4/4 [==============================] - 12s 3s/step - loss: 85.7450 - r2_keras: -2355.1163\n",
            "Epoch 2/20\n",
            "4/4 [==============================] - 2s 398ms/step - loss: 0.2727 - r2_keras: -6.2868\n",
            "Epoch 3/20\n",
            "4/4 [==============================] - 2s 416ms/step - loss: 0.0562 - r2_keras: -0.6244\n",
            "Epoch 4/20\n",
            "4/4 [==============================] - 2s 383ms/step - loss: 0.0366 - r2_keras: -0.0459\n",
            "Epoch 5/20\n",
            "4/4 [==============================] - 2s 407ms/step - loss: 0.0345 - r2_keras: -0.0025\n",
            "Epoch 6/20\n",
            "4/4 [==============================] - 2s 381ms/step - loss: 0.0325 - r2_keras: 0.0714\n",
            "Epoch 7/20\n",
            "4/4 [==============================] - 2s 408ms/step - loss: 0.0296 - r2_keras: 0.1607\n",
            "Epoch 8/20\n",
            "4/4 [==============================] - 1s 373ms/step - loss: 0.0229 - r2_keras: 0.3335\n",
            "Epoch 9/20\n",
            "4/4 [==============================] - 2s 397ms/step - loss: 0.0235 - r2_keras: 0.3144\n",
            "Epoch 10/20\n",
            "4/4 [==============================] - 2s 390ms/step - loss: 0.0234 - r2_keras: 0.3135\n",
            "Epoch 11/20\n",
            "4/4 [==============================] - 2s 412ms/step - loss: 0.0158 - r2_keras: 0.5425\n",
            "Epoch 12/20\n",
            "4/4 [==============================] - 2s 377ms/step - loss: 0.0114 - r2_keras: 0.6778\n",
            "Epoch 13/20\n",
            "4/4 [==============================] - 2s 406ms/step - loss: 0.0099 - r2_keras: 0.7173\n",
            "Epoch 14/20\n",
            "4/4 [==============================] - 1s 372ms/step - loss: 0.0081 - r2_keras: 0.7656\n",
            "Epoch 15/20\n",
            "4/4 [==============================] - 2s 396ms/step - loss: 0.0068 - r2_keras: 0.7937\n",
            "Epoch 16/20\n",
            "4/4 [==============================] - 2s 384ms/step - loss: 0.0035 - r2_keras: 0.9001\n",
            "Epoch 17/20\n",
            "4/4 [==============================] - 2s 394ms/step - loss: 0.0031 - r2_keras: 0.9118\n",
            "Epoch 18/20\n",
            "4/4 [==============================] - 2s 396ms/step - loss: 0.0016 - r2_keras: 0.9546\n",
            "Epoch 19/20\n",
            "4/4 [==============================] - 2s 378ms/step - loss: 0.0027 - r2_keras: 0.9296\n",
            "Epoch 20/20\n",
            "4/4 [==============================] - 2s 407ms/step - loss: 0.0017 - r2_keras: 0.9473\n"
          ],
          "name": "stdout"
        }
      ]
    },
    {
      "metadata": {
        "id": "0CZxZi4xBo_S",
        "colab_type": "code",
        "colab": {}
      },
      "cell_type": "code",
      "source": [
        "#Save history\n",
        "history_df = pd.DataFrame.from_dict(history.history)\n",
        "history_df.to_excel('../../005_Result/CNN_3D_v2/History_CNN3D_00'+str(exp_num)+'.xlsx')"
      ],
      "execution_count": 0,
      "outputs": []
    },
    {
      "metadata": {
        "id": "pQBAQ7FhBwHO",
        "colab_type": "code",
        "colab": {}
      },
      "cell_type": "code",
      "source": [
        "#Load the model and plot the data\n",
        "#model.load_weights('../../../../../Weights_CNN3D_00'+str(exp_num)+'.hdf5')"
      ],
      "execution_count": 0,
      "outputs": []
    },
    {
      "metadata": {
        "id": "d5cnuj1yB1zb",
        "colab_type": "code",
        "colab": {}
      },
      "cell_type": "code",
      "source": [
        "#Store the training & testing result\n",
        "total_result = model.predict_generator(generator=total_generator, steps=None,\n",
        "                                  max_queue_size=10, workers=1,\n",
        "                                  use_multiprocessing=False, verbose=0)"
      ],
      "execution_count": 0,
      "outputs": []
    },
    {
      "metadata": {
        "id": "dAIsTuc7EAm2",
        "colab_type": "code",
        "outputId": "7ef98350-5b7e-4181-bad6-0e65c751b5b6",
        "colab": {
          "base_uri": "https://localhost:8080/",
          "height": 34
        }
      },
      "cell_type": "code",
      "source": [
        "len(total_result)"
      ],
      "execution_count": 24,
      "outputs": [
        {
          "output_type": "execute_result",
          "data": {
            "text/plain": [
              "100"
            ]
          },
          "metadata": {
            "tags": []
          },
          "execution_count": 24
        }
      ]
    },
    {
      "metadata": {
        "id": "Yb4O1gg4CEo-",
        "colab_type": "code",
        "colab": {}
      },
      "cell_type": "code",
      "source": [
        "#Save result\n",
        "training_result = {\n",
        "\t\t'true_training': np.reshape(k_norm[:training_len]*np.max(k),(training_len,)),\n",
        "\t\t'pred_training': np.reshape(total_result[:training_len]*np.max(k),(training_len,))\n",
        "\t\t}\n",
        "testing_result = {\n",
        "    'true_testing': np.reshape(k_norm[training_len:total_len]*np.max(k),(testing_len,)),\n",
        "\t\t'pred_testing': np.reshape(total_result[training_len:total_len]*np.max(k),(testing_len,))\n",
        "        }\n",
        "training_result_df = pd.DataFrame.from_dict(training_result)\n",
        "testing_result_df = pd.DataFrame.from_dict(testing_result)\n",
        "training_result_df.to_excel('../../005_Result/CNN_3D_v2/Training_CNN3D_00'+\n",
        "                            str(exp_num)+'_'+str(r2_score (k_norm[:training_len]*np.max(k), total_result[:training_len]*np.max(k))*100)+'.xlsx')\n",
        "testing_result_df.to_excel('../../005_Result/CNN_3D_v2/Testing_CNN3D_00'+\n",
        "                            str(exp_num)+'_'+str(r2_score(k_norm[training_len:total_len]*np.max(k), total_result[training_len:total_len]*np.max(k))*100)+'.xlsx')\n"
      ],
      "execution_count": 0,
      "outputs": []
    },
    {
      "metadata": {
        "id": "HjSMF4ChPES6",
        "colab_type": "code",
        "outputId": "d907eeff-0c76-46cf-e686-7ac9432e56fc",
        "colab": {
          "base_uri": "https://localhost:8080/",
          "height": 34
        }
      },
      "cell_type": "code",
      "source": [
        "str(r2_score(k_norm[:training_len]*np.max(k), total_result[:training_len]*np.max(k))*100)"
      ],
      "execution_count": 26,
      "outputs": [
        {
          "output_type": "execute_result",
          "data": {
            "text/plain": [
              "'92.26266483984742'"
            ]
          },
          "metadata": {
            "tags": []
          },
          "execution_count": 26
        }
      ]
    },
    {
      "metadata": {
        "id": "Coe39TF2CKyr",
        "colab_type": "code",
        "outputId": "d71a8aa2-eed0-4b7c-cb96-eef067c16876",
        "colab": {
          "base_uri": "https://localhost:8080/",
          "height": 1230
        }
      },
      "cell_type": "code",
      "source": [
        "#Impport data\n",
        "i = exp_num\n",
        "Training = training_result_df\n",
        "Error_training =np.abs(Training['true_training'].values-Training['pred_training'].values)/Training['true_training'].values\n",
        "Training['Error'] = Error_training\n",
        "Training.index.names = ['Subsample']\n",
        "Testing = testing_result_df\n",
        "Error_testing =np.abs(Testing['true_testing'].values-Testing['pred_testing'].values)/Testing['true_testing'].values\n",
        "Testing['Error'] = Error_testing\n",
        "Testing.index.names = ['Subsample']\n",
        "    \n",
        "#Plot training data\n",
        "plt.figure()\n",
        "sns.scatterplot(x=range(1,91), y='true_training', data = Training)\n",
        "sns.scatterplot(x=range(1,91), y='pred_training', data = Training)\n",
        "plt.ylabel('$\\phi^3/ssa^2$')\n",
        "plt.xlabel('Subsample')\n",
        "plt.title('Permeabilitas Kozeny Carman vs CNN untuk 20 Epoch \\n Data Training Arsitektur #{} ($R^2$ = {:2.2f}%)' .format(i, r2_score(Training['true_training'], Training['pred_training'])*100))\n",
        "plt.legend(['k true', 'k pred'])\n",
        "plt.xticks(np.arange(1,91,10))\n",
        "    \n",
        "#Plot error training data\n",
        "plt.figure()\n",
        "sns.scatterplot(x='true_training', y='Error', data = Training)\n",
        "plt.ylabel('|k_true-k_pred|/k_true')\n",
        "plt.xlabel('$\\phi^3/ssa^2$')\n",
        "plt.title('Plot Error untuk Setiap Nilai Permeabilitas \\n pada 20 Epoch Data Training Arsitektur #{} ($R^2$ = {:2.2f}%)' .format(i, r2_score(Training['true_training'], Training['pred_training'])*100))\n",
        "\n",
        "              \n",
        "#Plot testing data\n",
        "plt.figure()\n",
        "sns.scatterplot(x=range(1,11), y='true_testing', data = Testing)\n",
        "sns.scatterplot(x=range(1,11), y='pred_testing', data = Testing)\n",
        "plt.ylabel('$\\phi^3/ssa^2$')\n",
        "plt.xlabel('Subsample')\n",
        "plt.title('Permeabilitas Kozeny Carman vs CNN untuk 20 Epoch \\n Data Testing Arsitektur #{} ($R^2$ = {:2.2f}%)' .format(i, r2_score(Testing['true_testing'], Testing['pred_testing'])*100))\n",
        "plt.legend(['k true', 'k pred'])\n",
        "plt.xticks(np.arange(1,11,1))\n",
        "    \n",
        "#Plot error testing data\n",
        "plt.figure()\n",
        "sns.scatterplot(x='true_testing', y='Error', data = Testing)\n",
        "plt.ylabel('|k_true-k_pred|/k_true')\n",
        "plt.xlabel('$\\phi^3/ssa^2$')\n",
        "plt.title('Plot Error untuk Setiap Nilai Permeabilitas \\n pada 20 Epoch Data Testing Arsitektur #{}' .format(i))"
      ],
      "execution_count": 27,
      "outputs": [
        {
          "output_type": "execute_result",
          "data": {
            "text/plain": [
              "Text(0.5, 1.0, 'Plot Error untuk Setiap Nilai Permeabilitas \\n pada 20 Epoch Data Testing Arsitektur #9')"
            ]
          },
          "metadata": {
            "tags": []
          },
          "execution_count": 27
        },
        {
          "output_type": "display_data",
          "data": {
            "image/png": "[encoded data removed]",
            "text/plain": [
              "<Figure size 432x288 with 1 Axes>"
            ]
          },
          "metadata": {
            "tags": []
          }
        },
        {
          "output_type": "display_data",
          "data": {
            "image/png": "[encoded data removed]",
            "text/plain": [
              "<Figure size 432x288 with 1 Axes>"
            ]
          },
          "metadata": {
            "tags": []
          }
        },
        {
          "output_type": "display_data",
          "data": {
            "image/png": "[encoded data removed]",
            "text/plain": [
              "<Figure size 432x288 with 1 Axes>"
            ]
          },
          "metadata": {
            "tags": []
          }
        },
        {
          "output_type": "display_data",
          "data": {
            "image/png": "[encoded data removed]",
            "text/plain": [
              "<Figure size 432x288 with 1 Axes>"
            ]
          },
          "metadata": {
            "tags": []
          }
        }
      ]
    }
  ]
}