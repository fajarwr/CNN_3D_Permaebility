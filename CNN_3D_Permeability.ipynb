{
  "nbformat": 4,
  "nbformat_minor": 0,
  "metadata": {
    "colab": {
      "name": "CNN_3D_Permeability.ipynb",
      "version": "0.3.2",
      "provenance": [],
      "collapsed_sections": [],
      "include_colab_link": true
    },
    "kernelspec": {
      "name": "python3",
      "display_name": "Python 3"
    },
    "accelerator": "GPU"
  },
  "cells": [
    {
      "cell_type": "markdown",
      "metadata": {
        "id": "view-in-github",
        "colab_type": "text"
      },
      "source": [
        "<a href=\"https://colab.research.google.com/github/fajarwr/CNN_3D_Permaebility/blob/master/CNN_3D_Permeability.ipynb\" target=\"_parent\"><img src=\"https://colab.research.google.com/assets/colab-badge.svg\" alt=\"Open In Colab\"/></a>"
      ]
    },
    {
      "metadata": {
        "id": "uZ46QlYesJ-5",
        "colab_type": "code",
        "colab": {}
      },
      "cell_type": "code",
      "source": [
        "from __future__ import division, print_function, absolute_import\n",
        "from keras.models import Sequential, model_from_json\n",
        "from keras.layers import Dense, Dropout, Flatten, Conv3D, MaxPooling3D, BatchNormalization, Input\n",
        "from keras.optimizers import RMSprop\n",
        "from keras.preprocessing.image import ImageDataGenerator\n",
        "from keras.utils.np_utils import to_categorical\n",
        "from keras.callbacks import ReduceLROnPlateau, TensorBoard\n",
        "import h5py\n",
        "import pandas as pd\n",
        "import numpy as np\n",
        "import matplotlib.pyplot as plt\n",
        "import seaborn as sns\n",
        "sns.set_style('white')\n",
        "from sklearn.metrics import confusion_matrix, accuracy_score, r2_score\n",
        "import os\n",
        "import sys\n",
        "import matplotlib.pyplot as plt\n",
        "import re\n",
        "from sklearn.metrics import confusion_matrix, accuracy_score, r2_score\n",
        "from sklearn.model_selection import train_test_split\n",
        "from keras import backend as K\n",
        "from keras.callbacks import ModelCheckpoint\n",
        "import keras"
      ],
      "execution_count": 0,
      "outputs": []
    },
    {
      "metadata": {
        "id": "SnAA9PTBwMmF",
        "colab_type": "code",
        "colab": {}
      },
      "cell_type": "code",
      "source": [
        "#Define r square matric\n",
        "def r2_keras(y_true, y_pred):\n",
        "    SS_res =  K.sum(K.square(y_true - y_pred)) \n",
        "    SS_tot = K.sum(K.square(y_true - K.mean(y_true)))\n",
        "    return ( 1 - SS_res/(SS_tot + K.epsilon()) )"
      ],
      "execution_count": 0,
      "outputs": []
    },
    {
      "metadata": {
        "id": "_MXt2sDLxbiZ",
        "colab_type": "code",
        "outputId": "e2400292-74fa-4938-e1db-44cc5bfed666",
        "colab": {
          "base_uri": "https://localhost:8080/",
          "height": 34
        }
      },
      "cell_type": "code",
      "source": [
        "cd"
      ],
      "execution_count": 30,
      "outputs": [
        {
          "output_type": "stream",
          "text": [
            "/root\n"
          ],
          "name": "stdout"
        }
      ]
    },
    {
      "metadata": {
        "id": "MLiVBMLc46FL",
        "colab_type": "code",
        "outputId": "747cd7b5-d4c6-40c4-abdf-6a0c75db3670",
        "colab": {
          "base_uri": "https://localhost:8080/",
          "height": 34
        }
      },
      "cell_type": "code",
      "source": [
        "cd /content"
      ],
      "execution_count": 31,
      "outputs": [
        {
          "output_type": "stream",
          "text": [
            "/content\n"
          ],
          "name": "stdout"
        }
      ]
    },
    {
      "metadata": {
        "id": "IS2krkmz4_QN",
        "colab_type": "code",
        "outputId": "62c87ae2-5ad6-4892-81ee-98500babb513",
        "colab": {
          "base_uri": "https://localhost:8080/",
          "height": 34
        }
      },
      "cell_type": "code",
      "source": [
        "pwd"
      ],
      "execution_count": 32,
      "outputs": [
        {
          "output_type": "execute_result",
          "data": {
            "text/plain": [
              "'/content'"
            ]
          },
          "metadata": {
            "tags": []
          },
          "execution_count": 32
        }
      ]
    },
    {
      "metadata": {
        "id": "8XaqCiE4yCyP",
        "colab_type": "code",
        "outputId": "f2971bdc-7554-4ae9-ebb8-f26e7a4857b8",
        "colab": {
          "base_uri": "https://localhost:8080/",
          "height": 54
        }
      },
      "cell_type": "code",
      "source": [
        "from google.colab import drive\n",
        "drive.mount('/content/gdrive')"
      ],
      "execution_count": 33,
      "outputs": [
        {
          "output_type": "stream",
          "text": [
            "Drive already mounted at /content/gdrive; to attempt to forcibly remount, call drive.mount(\"/content/gdrive\", force_remount=True).\n"
          ],
          "name": "stdout"
        }
      ]
    },
    {
      "metadata": {
        "id": "Ha4Mgecc-J0d",
        "colab_type": "code",
        "outputId": "beedb1e6-7900-4ae9-ba8c-17f46c8e60c4",
        "colab": {
          "base_uri": "https://localhost:8080/",
          "height": 34
        }
      },
      "cell_type": "code",
      "source": [
        "ls"
      ],
      "execution_count": 34,
      "outputs": [
        {
          "output_type": "stream",
          "text": [
            "\u001b[0m\u001b[01;34mgdrive\u001b[0m/  \u001b[01;34msample_data\u001b[0m/\n"
          ],
          "name": "stdout"
        }
      ]
    },
    {
      "metadata": {
        "id": "glOQgwXky21u",
        "colab_type": "code",
        "colab": {}
      },
      "cell_type": "code",
      "source": [
        "os.chdir('gdrive/My Drive/CNN_Permeability/001_PythonCodes/CNN_3D_Permaebility')"
      ],
      "execution_count": 0,
      "outputs": []
    },
    {
      "metadata": {
        "id": "vJSPpJRz5tQ7",
        "colab_type": "code",
        "colab": {}
      },
      "cell_type": "code",
      "source": [
        "#Import datagenerator taken from \n",
        "#https://stanford.edu/~shervine/blog/keras-how-to-generate-data-on-the-fly\n",
        "from DataGenerator_3D_Classes import DataGenerator"
      ],
      "execution_count": 0,
      "outputs": []
    },
    {
      "metadata": {
        "id": "0j0cYATd5_Ke",
        "colab_type": "code",
        "colab": {}
      },
      "cell_type": "code",
      "source": [
        "#Experiment number\n",
        "exp_num = 8\n",
        "os.chdir('../../005_Result/CNN_3D_v2')\n",
        "#if any('00'+str(exp_num) in s for s in os.listdir(os.getcwd())):\n",
        "    #sys.exit('Alert : There is already 00'+str(exp_num)+' experiment result!!')"
      ],
      "execution_count": 0,
      "outputs": []
    },
    {
      "metadata": {
        "id": "kwENhDxO7VRN",
        "colab_type": "code",
        "colab": {}
      },
      "cell_type": "code",
      "source": [
        "#Load the data\n",
        "dim1,dim2,dim3,chn = 100,100,100,1\n",
        "training_len = 90\n",
        "testing_len = 10\n",
        "total_len = training_len + testing_len\n",
        "phi = []\n",
        "ssa = []\n",
        "os.chdir('../../002_Data/Berea_Sandstone_npy')\n",
        "for image3D_npy in os.listdir(os.getcwd())[:total_len]:\n",
        "    phi.append([float(s) for s in re.findall('[-+]?\\d*\\.\\d+|\\d+',\n",
        "                image3D_npy)][1])\n",
        "    ssa.append([float(s) for s in re.findall('[-+]?\\d*\\.\\d+|\\d+',\n",
        "                image3D_npy)][2])\n",
        "k = np.power(1-np.array(phi), 3)/np.power(ssa, 2)\n",
        "k_norm = k/np.max(k)"
      ],
      "execution_count": 0,
      "outputs": []
    },
    {
      "metadata": {
        "id": "vmKNGGhf7lFj",
        "colab_type": "code",
        "colab": {}
      },
      "cell_type": "code",
      "source": [
        "# Parameters\n",
        "params = {'dim': (dim1,dim2,dim3),\n",
        "          'batch_size': 20,\n",
        "          'n_classes': 1,\n",
        "          'n_channels': chn,\n",
        "          'shuffle': False}"
      ],
      "execution_count": 0,
      "outputs": []
    },
    {
      "metadata": {
        "id": "GpwZ-XK4_ebe",
        "colab_type": "code",
        "colab": {}
      },
      "cell_type": "code",
      "source": [
        "#Datasets\n",
        "partition = {\n",
        "\t\t'train': os.listdir(os.getcwd())[:training_len],\n",
        "\t\t'validation': os.listdir(os.getcwd())[training_len:total_len],\n",
        "        'total' : os.listdir(os.getcwd())[:total_len]\n",
        "\t\t}\n",
        "labels = dict(zip(os.listdir(os.getcwd())[:total_len], k_norm))"
      ],
      "execution_count": 0,
      "outputs": []
    },
    {
      "metadata": {
        "id": "Ym1wn7f2_h7D",
        "colab_type": "code",
        "colab": {}
      },
      "cell_type": "code",
      "source": [
        "# Generators\n",
        "training_generator = DataGenerator(partition['train'], labels, **params)\n",
        "validation_generator = DataGenerator(partition['validation'], labels, **params)\n",
        "total_generator = DataGenerator(partition['total'], labels, **params)"
      ],
      "execution_count": 0,
      "outputs": []
    },
    {
      "metadata": {
        "id": "z1SuLY-E_mmB",
        "colab_type": "code",
        "colab": {}
      },
      "cell_type": "code",
      "source": [
        "#Define a model\n",
        "model = Sequential()\n",
        "model.add(Conv3D(32, kernel_size=5, strides=(2, 2, 2), padding='valid',\n",
        "                 data_format='channels_last', dilation_rate=(1, 1, 1),\n",
        "                 activation='relu', use_bias=True,\n",
        "                 kernel_initializer='glorot_uniform', bias_initializer='zeros',\n",
        "                 kernel_regularizer=None, bias_regularizer=None, \n",
        "                 activity_regularizer=None, kernel_constraint=None,\n",
        "                 bias_constraint=None, input_shape=(dim1, dim2, dim3, chn)))\n",
        "model.add(Conv3D(32, kernel_size=5, strides=(2, 2, 2), padding='valid',\n",
        "                 data_format='channels_last', dilation_rate=(1, 1, 1),\n",
        "                 activation='relu', use_bias=True,\n",
        "                 kernel_initializer='glorot_uniform', bias_initializer='zeros',\n",
        "                 kernel_regularizer=None, bias_regularizer=None, \n",
        "                 activity_regularizer=None, kernel_constraint=None,\n",
        "                 bias_constraint=None))\n",
        "model.add(MaxPooling3D(pool_size=(2, 2, 2), strides=(1, 1, 1), padding='valid',\n",
        "                       data_format='channels_last'))\n",
        "model.add(Conv3D(32, kernel_size=3, strides=(1, 1, 1), padding='valid',\n",
        "                 data_format='channels_last', dilation_rate=(1, 1, 1),\n",
        "                 activation='relu', use_bias=True,\n",
        "                 kernel_initializer='glorot_uniform', bias_initializer='zeros',\n",
        "                 kernel_regularizer=None, bias_regularizer=None, \n",
        "                 activity_regularizer=None, kernel_constraint=None,\n",
        "                 bias_constraint=None, input_shape=(dim1, dim2, dim3, chn)))\n",
        "model.add(Conv3D(32, kernel_size=3, strides=(1, 1, 1), padding='valid',\n",
        "                 data_format='channels_last', dilation_rate=(1, 1, 1),\n",
        "                 activation='relu', use_bias=True,\n",
        "                 kernel_initializer='glorot_uniform', bias_initializer='zeros',\n",
        "                 kernel_regularizer=None, bias_regularizer=None, \n",
        "                 activity_regularizer=None, kernel_constraint=None,\n",
        "                 bias_constraint=None))\n",
        "model.add(MaxPooling3D(pool_size=(2, 2, 2), strides=(1, 1, 1), padding='valid',\n",
        "                       data_format='channels_last'))\n",
        "model.add(Flatten(data_format='channels_last'))\n",
        "model.add(Dense(128, activation='relu', use_bias=True,\n",
        "                kernel_initializer='glorot_uniform', bias_initializer='zeros',\n",
        "                kernel_regularizer=None, bias_regularizer=None,\n",
        "                activity_regularizer=None, kernel_constraint=None,\n",
        "                bias_constraint=None))\n",
        "model.add(Dense(128, activation='relu', use_bias=True,\n",
        "                kernel_initializer='glorot_uniform', bias_initializer='zeros',\n",
        "                kernel_regularizer=None, bias_regularizer=None,\n",
        "                activity_regularizer=None, kernel_constraint=None,\n",
        "                bias_constraint=None))\n",
        "model.add(Dense(64, activation='relu', use_bias=True,\n",
        "                kernel_initializer='glorot_uniform', bias_initializer='zeros',\n",
        "                kernel_regularizer=None, bias_regularizer=None,\n",
        "                activity_regularizer=None, kernel_constraint=None,\n",
        "                bias_constraint=None))\n",
        "model.add(Dense(1, activation=None, use_bias=True,\n",
        "                kernel_initializer='glorot_uniform', bias_initializer='zeros',\n",
        "                kernel_regularizer=None, bias_regularizer=None,\n",
        "                activity_regularizer=None, kernel_constraint=None,\n",
        "                bias_constraint=None))"
      ],
      "execution_count": 0,
      "outputs": []
    },
    {
      "metadata": {
        "id": "IMefmk7h_Aof",
        "colab_type": "code",
        "outputId": "577abba6-988e-402c-f773-da4d3d8f01a6",
        "colab": {
          "base_uri": "https://localhost:8080/",
          "height": 34
        }
      },
      "cell_type": "code",
      "source": [
        "pwd"
      ],
      "execution_count": 43,
      "outputs": [
        {
          "output_type": "execute_result",
          "data": {
            "text/plain": [
              "'/content/gdrive/My Drive/CNN_Permeability/002_Data/Berea_Sandstone_npy'"
            ]
          },
          "metadata": {
            "tags": []
          },
          "execution_count": 43
        }
      ]
    },
    {
      "metadata": {
        "id": "Z2eeTh_c_xEZ",
        "colab_type": "code",
        "colab": {}
      },
      "cell_type": "code",
      "source": [
        "#Compile the model\n",
        "model.compile(optimizer='Adam', loss='mean_squared_error', metrics=[r2_keras],\n",
        "              loss_weights=None, sample_weight_mode=None,weighted_metrics=None,\n",
        "              target_tensors=None)"
      ],
      "execution_count": 0,
      "outputs": []
    },
    {
      "metadata": {
        "id": "NhaIBZ5f_0oI",
        "colab_type": "code",
        "colab": {}
      },
      "cell_type": "code",
      "source": [
        "#This checkpoint object will store the model parameters in the file \"weights.hdf5\"\n",
        "#checkpoint = ModelCheckpoint(filepath='../../../../../Weights_CNN3D_00'+str(exp_num)+'.hdf5', monitor='val_loss')"
      ],
      "execution_count": 0,
      "outputs": []
    },
    {
      "metadata": {
        "id": "bNaaS6qM_-HY",
        "colab_type": "code",
        "colab": {}
      },
      "cell_type": "code",
      "source": [
        "#Change to data directory\n",
        "os.chdir('../../002_Data/Berea_Sandstone_npy')"
      ],
      "execution_count": 0,
      "outputs": []
    },
    {
      "metadata": {
        "id": "46vli8axAMIH",
        "colab_type": "code",
        "outputId": "5c472777-3936-422f-8a73-7055d70ccb45",
        "colab": {
          "base_uri": "https://localhost:8080/",
          "height": 697
        }
      },
      "cell_type": "code",
      "source": [
        "# Train model on dataset\n",
        "history = model.fit_generator(generator=training_generator, epochs=20,\n",
        "                    workers=1, use_multiprocessing=False)"
      ],
      "execution_count": 47,
      "outputs": [
        {
          "output_type": "stream",
          "text": [
            "Epoch 1/20\n",
            "4/4 [==============================] - 2s 620ms/step - loss: 379.8512 - r2_keras: -13253.4673\n",
            "Epoch 2/20\n",
            "4/4 [==============================] - 1s 352ms/step - loss: 0.5552 - r2_keras: -17.7011\n",
            "Epoch 3/20\n",
            "4/4 [==============================] - 1s 332ms/step - loss: 0.0816 - r2_keras: -1.5292\n",
            "Epoch 4/20\n",
            "4/4 [==============================] - 1s 340ms/step - loss: 0.0672 - r2_keras: -0.9729\n",
            "Epoch 5/20\n",
            "4/4 [==============================] - 1s 331ms/step - loss: 0.0351 - r2_keras: -0.0225\n",
            "Epoch 6/20\n",
            "4/4 [==============================] - 1s 351ms/step - loss: 0.4095 - r2_keras: -11.0543\n",
            "Epoch 7/20\n",
            "4/4 [==============================] - 1s 332ms/step - loss: 0.3226 - r2_keras: -8.8340\n",
            "Epoch 8/20\n",
            "4/4 [==============================] - 1s 342ms/step - loss: 0.2340 - r2_keras: -5.8979\n",
            "Epoch 9/20\n",
            "4/4 [==============================] - 1s 331ms/step - loss: 0.1089 - r2_keras: -1.8009\n",
            "Epoch 10/20\n",
            "4/4 [==============================] - 1s 349ms/step - loss: 0.0783 - r2_keras: -1.0960\n",
            "Epoch 11/20\n",
            "4/4 [==============================] - 1s 337ms/step - loss: 0.0575 - r2_keras: -0.7775\n",
            "Epoch 12/20\n",
            "4/4 [==============================] - 1s 337ms/step - loss: 0.0502 - r2_keras: -0.4617\n",
            "Epoch 13/20\n",
            "4/4 [==============================] - 1s 331ms/step - loss: 0.0439 - r2_keras: -0.2685\n",
            "Epoch 14/20\n",
            "4/4 [==============================] - 1s 345ms/step - loss: 0.0395 - r2_keras: -0.1287\n",
            "Epoch 15/20\n",
            "4/4 [==============================] - 1s 333ms/step - loss: 0.0427 - r2_keras: -0.2508\n",
            "Epoch 16/20\n",
            "4/4 [==============================] - 1s 344ms/step - loss: 0.0344 - r2_keras: 0.0156\n",
            "Epoch 17/20\n",
            "4/4 [==============================] - 1s 331ms/step - loss: 0.0334 - r2_keras: 0.0330\n",
            "Epoch 18/20\n",
            "4/4 [==============================] - 1s 345ms/step - loss: 0.0313 - r2_keras: 0.1012\n",
            "Epoch 19/20\n",
            "4/4 [==============================] - 1s 335ms/step - loss: 0.0314 - r2_keras: 0.0941\n",
            "Epoch 20/20\n",
            "4/4 [==============================] - 1s 346ms/step - loss: 0.0304 - r2_keras: 0.1148\n"
          ],
          "name": "stdout"
        }
      ]
    },
    {
      "metadata": {
        "id": "0CZxZi4xBo_S",
        "colab_type": "code",
        "colab": {}
      },
      "cell_type": "code",
      "source": [
        "#Save history\n",
        "history_df = pd.DataFrame.from_dict(history.history)\n",
        "history_df.to_excel('../../005_Result/CNN_3D_v2/History_CNN3D_00'+str(exp_num)+'.xlsx')"
      ],
      "execution_count": 0,
      "outputs": []
    },
    {
      "metadata": {
        "id": "pQBAQ7FhBwHO",
        "colab_type": "code",
        "colab": {}
      },
      "cell_type": "code",
      "source": [
        "#Load the model and plot the data\n",
        "#model.load_weights('../../../../../Weights_CNN3D_00'+str(exp_num)+'.hdf5')"
      ],
      "execution_count": 0,
      "outputs": []
    },
    {
      "metadata": {
        "id": "d5cnuj1yB1zb",
        "colab_type": "code",
        "colab": {}
      },
      "cell_type": "code",
      "source": [
        "#Store the training & testing result\n",
        "total_result = model.predict_generator(generator=total_generator, steps=None,\n",
        "                                  max_queue_size=10, workers=1,\n",
        "                                  use_multiprocessing=False, verbose=0)"
      ],
      "execution_count": 0,
      "outputs": []
    },
    {
      "metadata": {
        "id": "dAIsTuc7EAm2",
        "colab_type": "code",
        "outputId": "ab5b5d65-8a7b-47f7-d008-fc5ab8bf0aa6",
        "colab": {
          "base_uri": "https://localhost:8080/",
          "height": 34
        }
      },
      "cell_type": "code",
      "source": [
        "len(total_result)"
      ],
      "execution_count": 51,
      "outputs": [
        {
          "output_type": "execute_result",
          "data": {
            "text/plain": [
              "100"
            ]
          },
          "metadata": {
            "tags": []
          },
          "execution_count": 51
        }
      ]
    },
    {
      "metadata": {
        "id": "Yb4O1gg4CEo-",
        "colab_type": "code",
        "colab": {}
      },
      "cell_type": "code",
      "source": [
        "#Save result\n",
        "training_result = {\n",
        "\t\t'true_training': np.reshape(k_norm[:training_len]*np.max(k),(training_len,)),\n",
        "\t\t'pred_training': np.reshape(total_result[:training_len]*np.max(k),(training_len,))\n",
        "\t\t}\n",
        "testing_result = {\n",
        "    'true_testing': np.reshape(k_norm[training_len:total_len]*np.max(k),(testing_len,)),\n",
        "\t\t'pred_testing': np.reshape(total_result[training_len:total_len]*np.max(k),(testing_len,))\n",
        "        }\n",
        "training_result_df = pd.DataFrame.from_dict(training_result)\n",
        "testing_result_df = pd.DataFrame.from_dict(testing_result)\n",
        "training_result_df.to_excel('../../005_Result/CNN_3D_v2/Training_CNN3D_00'+\n",
        "                            str(exp_num)+'_'+str(r2_score (k_norm[:training_len]*np.max(k), total_result[:training_len]*np.max(k))*100)+'.xlsx')\n",
        "testing_result_df.to_excel('../../005_Result/CNN_3D_v2/Testing_CNN3D_00'+\n",
        "                            str(exp_num)+'_'+str(r2_score(k_norm[training_len:total_len]*np.max(k), total_result[training_len:total_len]*np.max(k))*100)+'.xlsx')\n"
      ],
      "execution_count": 0,
      "outputs": []
    },
    {
      "metadata": {
        "id": "HjSMF4ChPES6",
        "colab_type": "code",
        "outputId": "a2e6ec29-b00d-4678-f1c9-794ecb7c9dcb",
        "colab": {
          "base_uri": "https://localhost:8080/",
          "height": 34
        }
      },
      "cell_type": "code",
      "source": [
        "str(r2_score(k_norm[:training_len]*np.max(k), total_result[:training_len]*np.max(k))*100)"
      ],
      "execution_count": 53,
      "outputs": [
        {
          "output_type": "execute_result",
          "data": {
            "text/plain": [
              "'5.574434538396855'"
            ]
          },
          "metadata": {
            "tags": []
          },
          "execution_count": 53
        }
      ]
    },
    {
      "metadata": {
        "id": "Coe39TF2CKyr",
        "colab_type": "code",
        "outputId": "37ace5bd-f49f-43d5-bff6-e66c4b9597f0",
        "colab": {
          "base_uri": "https://localhost:8080/",
          "height": 1230
        }
      },
      "cell_type": "code",
      "source": [
        "#Impport data\n",
        "i = exp_num\n",
        "Training = training_result_df\n",
        "Error_training =np.abs(Training['true_training'].values-Training['pred_training'].values)/Training['true_training'].values\n",
        "Training['Error'] = Error_training\n",
        "Training.index.names = ['Subsample']\n",
        "Testing = testing_result_df\n",
        "Error_testing =np.abs(Testing['true_testing'].values-Testing['pred_testing'].values)/Testing['true_testing'].values\n",
        "Testing['Error'] = Error_testing\n",
        "Testing.index.names = ['Subsample']\n",
        "    \n",
        "#Plot training data\n",
        "plt.figure()\n",
        "sns.scatterplot(x=range(1,91), y='true_training', data = Training)\n",
        "sns.scatterplot(x=range(1,91), y='pred_training', data = Training)\n",
        "plt.ylabel('$\\phi^3/ssa^2$')\n",
        "plt.xlabel('Subsample')\n",
        "plt.title('Permeabilitas Kozeny Carman vs CNN untuk 20 Epoch \\n Data Training Arsitektur #{} ($R^2$ = {:2.2f}%)' .format(i, r2_score(Training['true_training'], Training['pred_training'])*100))\n",
        "plt.legend(['k true', 'k pred'])\n",
        "plt.xticks(np.arange(1,91,10))\n",
        "    \n",
        "#Plot error training data\n",
        "plt.figure()\n",
        "sns.scatterplot(x='true_training', y='Error', data = Training)\n",
        "plt.ylabel('|k_true-k_pred|/k_true')\n",
        "plt.xlabel('$\\phi^3/ssa^2$')\n",
        "plt.title('Plot Error untuk Setiap Nilai Permeabilitas \\n pada 20 Epoch Data Training Arsitektur #{} ($R^2$ = {:2.2f}%)' .format(i, r2_score(Training['true_training'], Training['pred_training'])*100))\n",
        "\n",
        "              \n",
        "#Plot testing data\n",
        "plt.figure()\n",
        "sns.scatterplot(x=range(1,11), y='true_testing', data = Testing)\n",
        "sns.scatterplot(x=range(1,11), y='pred_testing', data = Testing)\n",
        "plt.ylabel('$\\phi^3/ssa^2$')\n",
        "plt.xlabel('Subsample')\n",
        "plt.title('Permeabilitas Kozeny Carman vs CNN untuk 20 Epoch \\n Data Testing Arsitektur #{} ($R^2$ = {:2.2f}%)' .format(i, r2_score(Testing['true_testing'], Testing['pred_testing'])*100))\n",
        "plt.legend(['k true', 'k pred'])\n",
        "plt.xticks(np.arange(1,11,1))\n",
        "    \n",
        "#Plot error testing data\n",
        "plt.figure()\n",
        "sns.scatterplot(x='true_testing', y='Error', data = Testing)\n",
        "plt.ylabel('|k_true-k_pred|/k_true')\n",
        "plt.xlabel('$\\phi^3/ssa^2$')\n",
        "plt.title('Plot Error untuk Setiap Nilai Permeabilitas \\n pada 20 Epoch Data Testing Arsitektur #{}' .format(i))"
      ],
      "execution_count": 54,
      "outputs": [
        {
          "output_type": "execute_result",
          "data": {
            "text/plain": [
              "Text(0.5, 1.0, 'Plot Error untuk Setiap Nilai Permeabilitas \\n pada 20 Epoch Data Testing Arsitektur #8')"
            ]
          },
          "metadata": {
            "tags": []
          },
          "execution_count": 54
        },
        {
          "output_type": "display_data",
          "data": {
            "image/png": "[encoded data removed]",
            "text/plain": [
              "<Figure size 432x288 with 1 Axes>"
            ]
          },
          "metadata": {
            "tags": []
          }
        },
        {
          "output_type": "display_data",
          "data": {
            "image/png": "[encoded data removed]",
            "text/plain": [
              "<Figure size 432x288 with 1 Axes>"
            ]
          },
          "metadata": {
            "tags": []
          }
        },
        {
          "output_type": "display_data",
          "data": {
            "image/png": "[encoded data removed]",
            "text/plain": [
              "<Figure size 432x288 with 1 Axes>"
            ]
          },
          "metadata": {
            "tags": []
          }
        },
        {
          "output_type": "display_data",
          "data": {
            "image/png": "[encoded data removed]",
            "text/plain": [
              "<Figure size 432x288 with 1 Axes>"
            ]
          },
          "metadata": {
            "tags": []
          }
        }
      ]
    }
  ]
}